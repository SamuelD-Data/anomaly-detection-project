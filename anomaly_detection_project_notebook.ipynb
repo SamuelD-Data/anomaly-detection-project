{
 "cells": [
  {
   "cell_type": "code",
   "execution_count": 1,
   "metadata": {},
   "outputs": [],
   "source": [
    "import pandas as pd\n",
    "from wrangle import get_codeup_data\n",
    "from wrangle import combine_codeup_data\n",
    "from wrangle import null_filler"
   ]
  },
  {
   "cell_type": "markdown",
   "metadata": {},
   "source": [
    "# ACQUIRE\n",
    "I will acquire the data for this project using __get_codeup_data__ function from my __wrangle.py__ file.\n",
    "***"
   ]
  },
  {
   "cell_type": "code",
   "execution_count": 2,
   "metadata": {},
   "outputs": [],
   "source": [
    "# using function to acquire data\n",
    "logs, cohorts = get_codeup_data()"
   ]
  },
  {
   "cell_type": "code",
   "execution_count": 3,
   "metadata": {},
   "outputs": [
    {
     "data": {
      "text/html": [
       "<div>\n",
       "<style scoped>\n",
       "    .dataframe tbody tr th:only-of-type {\n",
       "        vertical-align: middle;\n",
       "    }\n",
       "\n",
       "    .dataframe tbody tr th {\n",
       "        vertical-align: top;\n",
       "    }\n",
       "\n",
       "    .dataframe thead th {\n",
       "        text-align: right;\n",
       "    }\n",
       "</style>\n",
       "<table border=\"1\" class=\"dataframe\">\n",
       "  <thead>\n",
       "    <tr style=\"text-align: right;\">\n",
       "      <th></th>\n",
       "      <th>date</th>\n",
       "      <th>time</th>\n",
       "      <th>page_viewed</th>\n",
       "      <th>user_id</th>\n",
       "      <th>cohort_id</th>\n",
       "      <th>ip</th>\n",
       "    </tr>\n",
       "  </thead>\n",
       "  <tbody>\n",
       "    <tr>\n",
       "      <th>0</th>\n",
       "      <td>2018-01-26</td>\n",
       "      <td>09:55:03</td>\n",
       "      <td>/</td>\n",
       "      <td>1</td>\n",
       "      <td>8.0</td>\n",
       "      <td>97.105.19.61</td>\n",
       "    </tr>\n",
       "    <tr>\n",
       "      <th>1</th>\n",
       "      <td>2018-01-26</td>\n",
       "      <td>09:56:02</td>\n",
       "      <td>java-ii</td>\n",
       "      <td>1</td>\n",
       "      <td>8.0</td>\n",
       "      <td>97.105.19.61</td>\n",
       "    </tr>\n",
       "  </tbody>\n",
       "</table>\n",
       "</div>"
      ],
      "text/plain": [
       "         date      time page_viewed  user_id  cohort_id            ip\n",
       "0  2018-01-26  09:55:03           /        1        8.0  97.105.19.61\n",
       "1  2018-01-26  09:56:02     java-ii        1        8.0  97.105.19.61"
      ]
     },
     "execution_count": 3,
     "metadata": {},
     "output_type": "execute_result"
    }
   ],
   "source": [
    "# previewing logs data\n",
    "logs.head(2)"
   ]
  },
  {
   "cell_type": "code",
   "execution_count": 4,
   "metadata": {},
   "outputs": [
    {
     "data": {
      "text/html": [
       "<div>\n",
       "<style scoped>\n",
       "    .dataframe tbody tr th:only-of-type {\n",
       "        vertical-align: middle;\n",
       "    }\n",
       "\n",
       "    .dataframe tbody tr th {\n",
       "        vertical-align: top;\n",
       "    }\n",
       "\n",
       "    .dataframe thead th {\n",
       "        text-align: right;\n",
       "    }\n",
       "</style>\n",
       "<table border=\"1\" class=\"dataframe\">\n",
       "  <thead>\n",
       "    <tr style=\"text-align: right;\">\n",
       "      <th></th>\n",
       "      <th>cohort_id</th>\n",
       "      <th>name</th>\n",
       "      <th>start_date</th>\n",
       "      <th>end_date</th>\n",
       "      <th>program_id</th>\n",
       "    </tr>\n",
       "  </thead>\n",
       "  <tbody>\n",
       "    <tr>\n",
       "      <th>0</th>\n",
       "      <td>1</td>\n",
       "      <td>Arches</td>\n",
       "      <td>2014-02-04</td>\n",
       "      <td>2014-04-22</td>\n",
       "      <td>1</td>\n",
       "    </tr>\n",
       "    <tr>\n",
       "      <th>1</th>\n",
       "      <td>2</td>\n",
       "      <td>Badlands</td>\n",
       "      <td>2014-06-04</td>\n",
       "      <td>2014-08-22</td>\n",
       "      <td>1</td>\n",
       "    </tr>\n",
       "  </tbody>\n",
       "</table>\n",
       "</div>"
      ],
      "text/plain": [
       "   cohort_id      name  start_date    end_date  program_id\n",
       "0          1    Arches  2014-02-04  2014-04-22           1\n",
       "1          2  Badlands  2014-06-04  2014-08-22           1"
      ]
     },
     "execution_count": 4,
     "metadata": {},
     "output_type": "execute_result"
    }
   ],
   "source": [
    "# previewing cohorts data\n",
    "cohorts.head(2)"
   ]
  },
  {
   "cell_type": "markdown",
   "metadata": {},
   "source": [
    "# PREPARATION\n",
    "I will prepare the data for the exploration necessary to answer the various questions I was asked.\n",
    "***"
   ]
  },
  {
   "cell_type": "markdown",
   "metadata": {},
   "source": [
    "#### Combine the data from the two separate DFs using the __combine_codeup_data__ function from my __wrangle.py__ file."
   ]
  },
  {
   "cell_type": "code",
   "execution_count": 5,
   "metadata": {},
   "outputs": [],
   "source": [
    "# combining DFs using function from local wrangle.py file\n",
    "df = combine_codeup_data(logs, cohorts)"
   ]
  },
  {
   "cell_type": "code",
   "execution_count": 6,
   "metadata": {},
   "outputs": [
    {
     "data": {
      "text/html": [
       "<div>\n",
       "<style scoped>\n",
       "    .dataframe tbody tr th:only-of-type {\n",
       "        vertical-align: middle;\n",
       "    }\n",
       "\n",
       "    .dataframe tbody tr th {\n",
       "        vertical-align: top;\n",
       "    }\n",
       "\n",
       "    .dataframe thead th {\n",
       "        text-align: right;\n",
       "    }\n",
       "</style>\n",
       "<table border=\"1\" class=\"dataframe\">\n",
       "  <thead>\n",
       "    <tr style=\"text-align: right;\">\n",
       "      <th></th>\n",
       "      <th>page_viewed</th>\n",
       "      <th>user_id</th>\n",
       "      <th>cohort_id</th>\n",
       "      <th>ip</th>\n",
       "      <th>name</th>\n",
       "      <th>start_date</th>\n",
       "      <th>end_date</th>\n",
       "      <th>program_id</th>\n",
       "    </tr>\n",
       "    <tr>\n",
       "      <th>datetime</th>\n",
       "      <th></th>\n",
       "      <th></th>\n",
       "      <th></th>\n",
       "      <th></th>\n",
       "      <th></th>\n",
       "      <th></th>\n",
       "      <th></th>\n",
       "      <th></th>\n",
       "    </tr>\n",
       "  </thead>\n",
       "  <tbody>\n",
       "    <tr>\n",
       "      <th>2018-01-26 09:55:03</th>\n",
       "      <td>/</td>\n",
       "      <td>1</td>\n",
       "      <td>8.0</td>\n",
       "      <td>97.105.19.61</td>\n",
       "      <td>Hampton</td>\n",
       "      <td>2015-09-22</td>\n",
       "      <td>2016-02-06</td>\n",
       "      <td>1.0</td>\n",
       "    </tr>\n",
       "    <tr>\n",
       "      <th>2018-01-26 09:56:02</th>\n",
       "      <td>java-ii</td>\n",
       "      <td>1</td>\n",
       "      <td>8.0</td>\n",
       "      <td>97.105.19.61</td>\n",
       "      <td>Hampton</td>\n",
       "      <td>2015-09-22</td>\n",
       "      <td>2016-02-06</td>\n",
       "      <td>1.0</td>\n",
       "    </tr>\n",
       "    <tr>\n",
       "      <th>2018-01-26 09:56:05</th>\n",
       "      <td>java-ii/object-oriented-programming</td>\n",
       "      <td>1</td>\n",
       "      <td>8.0</td>\n",
       "      <td>97.105.19.61</td>\n",
       "      <td>Hampton</td>\n",
       "      <td>2015-09-22</td>\n",
       "      <td>2016-02-06</td>\n",
       "      <td>1.0</td>\n",
       "    </tr>\n",
       "    <tr>\n",
       "      <th>2018-01-26 09:56:06</th>\n",
       "      <td>slides/object_oriented_programming</td>\n",
       "      <td>1</td>\n",
       "      <td>8.0</td>\n",
       "      <td>97.105.19.61</td>\n",
       "      <td>Hampton</td>\n",
       "      <td>2015-09-22</td>\n",
       "      <td>2016-02-06</td>\n",
       "      <td>1.0</td>\n",
       "    </tr>\n",
       "    <tr>\n",
       "      <th>2018-01-26 09:56:24</th>\n",
       "      <td>javascript-i/conditionals</td>\n",
       "      <td>2</td>\n",
       "      <td>22.0</td>\n",
       "      <td>97.105.19.61</td>\n",
       "      <td>Teddy</td>\n",
       "      <td>2018-01-08</td>\n",
       "      <td>2018-05-17</td>\n",
       "      <td>2.0</td>\n",
       "    </tr>\n",
       "  </tbody>\n",
       "</table>\n",
       "</div>"
      ],
      "text/plain": [
       "                                             page_viewed  user_id  cohort_id  \\\n",
       "datetime                                                                       \n",
       "2018-01-26 09:55:03                                    /        1        8.0   \n",
       "2018-01-26 09:56:02                              java-ii        1        8.0   \n",
       "2018-01-26 09:56:05  java-ii/object-oriented-programming        1        8.0   \n",
       "2018-01-26 09:56:06   slides/object_oriented_programming        1        8.0   \n",
       "2018-01-26 09:56:24            javascript-i/conditionals        2       22.0   \n",
       "\n",
       "                               ip     name  start_date    end_date  program_id  \n",
       "datetime                                                                        \n",
       "2018-01-26 09:55:03  97.105.19.61  Hampton  2015-09-22  2016-02-06         1.0  \n",
       "2018-01-26 09:56:02  97.105.19.61  Hampton  2015-09-22  2016-02-06         1.0  \n",
       "2018-01-26 09:56:05  97.105.19.61  Hampton  2015-09-22  2016-02-06         1.0  \n",
       "2018-01-26 09:56:06  97.105.19.61  Hampton  2015-09-22  2016-02-06         1.0  \n",
       "2018-01-26 09:56:24  97.105.19.61    Teddy  2018-01-08  2018-05-17         2.0  "
      ]
     },
     "execution_count": 6,
     "metadata": {},
     "output_type": "execute_result"
    }
   ],
   "source": [
    "# previewing data \n",
    "df.head()"
   ]
  },
  {
   "cell_type": "markdown",
   "metadata": {},
   "source": [
    "#### I'm going to use .info to check if the column data types are appropriate and if there are any null values"
   ]
  },
  {
   "cell_type": "code",
   "execution_count": 7,
   "metadata": {
    "scrolled": true
   },
   "outputs": [
    {
     "name": "stdout",
     "output_type": "stream",
     "text": [
      "<class 'pandas.core.frame.DataFrame'>\n",
      "DatetimeIndex: 719459 entries, 2018-01-26 09:55:03 to 2020-11-02 16:48:47\n",
      "Data columns (total 8 columns):\n",
      " #   Column       Non-Null Count   Dtype  \n",
      "---  ------       --------------   -----  \n",
      " 0   page_viewed  719458 non-null  object \n",
      " 1   user_id      719459 non-null  int64  \n",
      " 2   cohort_id    674619 non-null  float64\n",
      " 3   ip           719459 non-null  object \n",
      " 4   name         674619 non-null  object \n",
      " 5   start_date   674619 non-null  object \n",
      " 6   end_date     674619 non-null  object \n",
      " 7   program_id   674619 non-null  float64\n",
      "dtypes: float64(2), int64(1), object(5)\n",
      "memory usage: 49.4+ MB\n"
     ]
    }
   ],
   "source": [
    "df.info()"
   ]
  },
  {
   "cell_type": "markdown",
   "metadata": {},
   "source": [
    "- __Update data types if necessary for later work__\n",
    "- Update missing values with special values that distinguish them from non-nulls\n",
    "    - page_viewed: PageUnknown\n",
    "    - cohort_id: 0\n",
    "    - name: unknown\n",
    "    - start_date and end_date: 99-99-9999\n",
    "    - program_id: 0"
   ]
  },
  {
   "cell_type": "markdown",
   "metadata": {},
   "source": [
    "#### I'm going to use my null_filler function from my wrangle.py file to fill null values with the values specified above."
   ]
  },
  {
   "cell_type": "code",
   "execution_count": 8,
   "metadata": {},
   "outputs": [],
   "source": [
    "# Using function from wrangle file to fill null values\n",
    "null_filler(df)"
   ]
  },
  {
   "cell_type": "code",
   "execution_count": 9,
   "metadata": {},
   "outputs": [
    {
     "name": "stdout",
     "output_type": "stream",
     "text": [
      "<class 'pandas.core.frame.DataFrame'>\n",
      "DatetimeIndex: 719459 entries, 2018-01-26 09:55:03 to 2020-11-02 16:48:47\n",
      "Data columns (total 8 columns):\n",
      " #   Column       Non-Null Count   Dtype  \n",
      "---  ------       --------------   -----  \n",
      " 0   page_viewed  719459 non-null  object \n",
      " 1   user_id      719459 non-null  int64  \n",
      " 2   cohort_id    719459 non-null  object \n",
      " 3   ip           719459 non-null  object \n",
      " 4   name         719459 non-null  object \n",
      " 5   start_date   719459 non-null  object \n",
      " 6   end_date     719459 non-null  object \n",
      " 7   program_id   719459 non-null  float64\n",
      "dtypes: float64(1), int64(1), object(6)\n",
      "memory usage: 49.4+ MB\n"
     ]
    }
   ],
   "source": [
    "# Checking to confirm if all nulls are removed\n",
    "df.info()"
   ]
  },
  {
   "cell_type": "markdown",
   "metadata": {},
   "source": [
    "#### I'm going to split the data science, web development, and unknown cohorts into separate DFs to make exploring them separately easier.\n",
    "\n",
    "First I'll need to identify which program IDs belong with web development and which belong to data science.\n",
    "\n",
    "I'll do this by cross-referencing the cohorts featured at <https://alumni.codeup.com> with the name column in my DF and take note of their program IDs."
   ]
  },
  {
   "cell_type": "code",
   "execution_count": 10,
   "metadata": {
    "scrolled": true
   },
   "outputs": [
    {
     "data": {
      "text/html": [
       "<div>\n",
       "<style scoped>\n",
       "    .dataframe tbody tr th:only-of-type {\n",
       "        vertical-align: middle;\n",
       "    }\n",
       "\n",
       "    .dataframe tbody tr th {\n",
       "        vertical-align: top;\n",
       "    }\n",
       "\n",
       "    .dataframe thead th {\n",
       "        text-align: right;\n",
       "    }\n",
       "</style>\n",
       "<table border=\"1\" class=\"dataframe\">\n",
       "  <thead>\n",
       "    <tr style=\"text-align: right;\">\n",
       "      <th></th>\n",
       "      <th>page_viewed</th>\n",
       "      <th>user_id</th>\n",
       "      <th>cohort_id</th>\n",
       "      <th>ip</th>\n",
       "      <th>name</th>\n",
       "      <th>start_date</th>\n",
       "      <th>end_date</th>\n",
       "      <th>program_id</th>\n",
       "    </tr>\n",
       "    <tr>\n",
       "      <th>datetime</th>\n",
       "      <th></th>\n",
       "      <th></th>\n",
       "      <th></th>\n",
       "      <th></th>\n",
       "      <th></th>\n",
       "      <th></th>\n",
       "      <th></th>\n",
       "      <th></th>\n",
       "    </tr>\n",
       "  </thead>\n",
       "  <tbody>\n",
       "    <tr>\n",
       "      <th>2019-03-18 16:01:40</th>\n",
       "      <td>assets/js/pdfmake.min.js.map</td>\n",
       "      <td>373</td>\n",
       "      <td>31</td>\n",
       "      <td>97.105.19.58</td>\n",
       "      <td>Andromeda</td>\n",
       "      <td>2019-03-18</td>\n",
       "      <td>2019-07-30</td>\n",
       "      <td>2.0</td>\n",
       "    </tr>\n",
       "  </tbody>\n",
       "</table>\n",
       "</div>"
      ],
      "text/plain": [
       "                                      page_viewed  user_id cohort_id  \\\n",
       "datetime                                                               \n",
       "2019-03-18 16:01:40  assets/js/pdfmake.min.js.map      373        31   \n",
       "\n",
       "                               ip       name  start_date    end_date  \\\n",
       "datetime                                                               \n",
       "2019-03-18 16:01:40  97.105.19.58  Andromeda  2019-03-18  2019-07-30   \n",
       "\n",
       "                     program_id  \n",
       "datetime                         \n",
       "2019-03-18 16:01:40         2.0  "
      ]
     },
     "execution_count": 10,
     "metadata": {},
     "output_type": "execute_result"
    }
   ],
   "source": [
    "# filtering for an Andromeda cohort row to see what program ID it is associated with\n",
    "df[df.name == 'Andromeda'].head(1)"
   ]
  },
  {
   "cell_type": "markdown",
   "metadata": {},
   "source": [
    "Andromeda is a web dev cohort.\n",
    "\n",
    "program_id 2 indicates a web dev cohort."
   ]
  },
  {
   "cell_type": "code",
   "execution_count": 11,
   "metadata": {
    "scrolled": false
   },
   "outputs": [
    {
     "data": {
      "text/html": [
       "<div>\n",
       "<style scoped>\n",
       "    .dataframe tbody tr th:only-of-type {\n",
       "        vertical-align: middle;\n",
       "    }\n",
       "\n",
       "    .dataframe tbody tr th {\n",
       "        vertical-align: top;\n",
       "    }\n",
       "\n",
       "    .dataframe thead th {\n",
       "        text-align: right;\n",
       "    }\n",
       "</style>\n",
       "<table border=\"1\" class=\"dataframe\">\n",
       "  <thead>\n",
       "    <tr style=\"text-align: right;\">\n",
       "      <th></th>\n",
       "      <th>page_viewed</th>\n",
       "      <th>user_id</th>\n",
       "      <th>cohort_id</th>\n",
       "      <th>ip</th>\n",
       "      <th>name</th>\n",
       "      <th>start_date</th>\n",
       "      <th>end_date</th>\n",
       "      <th>program_id</th>\n",
       "    </tr>\n",
       "    <tr>\n",
       "      <th>datetime</th>\n",
       "      <th></th>\n",
       "      <th></th>\n",
       "      <th></th>\n",
       "      <th></th>\n",
       "      <th></th>\n",
       "      <th></th>\n",
       "      <th></th>\n",
       "      <th></th>\n",
       "    </tr>\n",
       "  </thead>\n",
       "  <tbody>\n",
       "    <tr>\n",
       "      <th>2018-01-26 10:14:47</th>\n",
       "      <td>/</td>\n",
       "      <td>11</td>\n",
       "      <td>1</td>\n",
       "      <td>97.105.19.61</td>\n",
       "      <td>Arches</td>\n",
       "      <td>2014-02-04</td>\n",
       "      <td>2014-04-22</td>\n",
       "      <td>1.0</td>\n",
       "    </tr>\n",
       "  </tbody>\n",
       "</table>\n",
       "</div>"
      ],
      "text/plain": [
       "                    page_viewed  user_id cohort_id            ip    name  \\\n",
       "datetime                                                                   \n",
       "2018-01-26 10:14:47           /       11         1  97.105.19.61  Arches   \n",
       "\n",
       "                     start_date    end_date  program_id  \n",
       "datetime                                                 \n",
       "2018-01-26 10:14:47  2014-02-04  2014-04-22         1.0  "
      ]
     },
     "execution_count": 11,
     "metadata": {},
     "output_type": "execute_result"
    }
   ],
   "source": [
    "# filtering for an Arches cohort row to see what program ID it is associated with\n",
    "df[df.name == 'Arches'].head(1)"
   ]
  },
  {
   "cell_type": "markdown",
   "metadata": {},
   "source": [
    "Arches is a web dev cohort.\n",
    "\n",
    "program_id 1 indicates a web dev cohort."
   ]
  },
  {
   "cell_type": "code",
   "execution_count": 12,
   "metadata": {
    "scrolled": true
   },
   "outputs": [
    {
     "data": {
      "text/html": [
       "<div>\n",
       "<style scoped>\n",
       "    .dataframe tbody tr th:only-of-type {\n",
       "        vertical-align: middle;\n",
       "    }\n",
       "\n",
       "    .dataframe tbody tr th {\n",
       "        vertical-align: top;\n",
       "    }\n",
       "\n",
       "    .dataframe thead th {\n",
       "        text-align: right;\n",
       "    }\n",
       "</style>\n",
       "<table border=\"1\" class=\"dataframe\">\n",
       "  <thead>\n",
       "    <tr style=\"text-align: right;\">\n",
       "      <th></th>\n",
       "      <th>page_viewed</th>\n",
       "      <th>user_id</th>\n",
       "      <th>cohort_id</th>\n",
       "      <th>ip</th>\n",
       "      <th>name</th>\n",
       "      <th>start_date</th>\n",
       "      <th>end_date</th>\n",
       "      <th>program_id</th>\n",
       "    </tr>\n",
       "    <tr>\n",
       "      <th>datetime</th>\n",
       "      <th></th>\n",
       "      <th></th>\n",
       "      <th></th>\n",
       "      <th></th>\n",
       "      <th></th>\n",
       "      <th></th>\n",
       "      <th></th>\n",
       "      <th></th>\n",
       "    </tr>\n",
       "  </thead>\n",
       "  <tbody>\n",
       "    <tr>\n",
       "      <th>2018-03-22 19:01:49</th>\n",
       "      <td>/</td>\n",
       "      <td>152</td>\n",
       "      <td>9</td>\n",
       "      <td>207.68.209.17</td>\n",
       "      <td>Apollo</td>\n",
       "      <td>2015-03-30</td>\n",
       "      <td>2015-07-29</td>\n",
       "      <td>4.0</td>\n",
       "    </tr>\n",
       "  </tbody>\n",
       "</table>\n",
       "</div>"
      ],
      "text/plain": [
       "                    page_viewed  user_id cohort_id             ip    name  \\\n",
       "datetime                                                                    \n",
       "2018-03-22 19:01:49           /      152         9  207.68.209.17  Apollo   \n",
       "\n",
       "                     start_date    end_date  program_id  \n",
       "datetime                                                 \n",
       "2018-03-22 19:01:49  2015-03-30  2015-07-29         4.0  "
      ]
     },
     "execution_count": 12,
     "metadata": {},
     "output_type": "execute_result"
    }
   ],
   "source": [
    "# filtering for an Apollo cohort row to see what program ID it is associated with\n",
    "df[df.name == 'Apollo'].head(1)"
   ]
  },
  {
   "cell_type": "markdown",
   "metadata": {},
   "source": [
    "Apollo is a web dev cohort.\n",
    "\n",
    "program_id 4 indicates a web dev cohort."
   ]
  },
  {
   "cell_type": "code",
   "execution_count": 13,
   "metadata": {
    "scrolled": true
   },
   "outputs": [
    {
     "data": {
      "text/html": [
       "<div>\n",
       "<style scoped>\n",
       "    .dataframe tbody tr th:only-of-type {\n",
       "        vertical-align: middle;\n",
       "    }\n",
       "\n",
       "    .dataframe tbody tr th {\n",
       "        vertical-align: top;\n",
       "    }\n",
       "\n",
       "    .dataframe thead th {\n",
       "        text-align: right;\n",
       "    }\n",
       "</style>\n",
       "<table border=\"1\" class=\"dataframe\">\n",
       "  <thead>\n",
       "    <tr style=\"text-align: right;\">\n",
       "      <th></th>\n",
       "      <th>page_viewed</th>\n",
       "      <th>user_id</th>\n",
       "      <th>cohort_id</th>\n",
       "      <th>ip</th>\n",
       "      <th>name</th>\n",
       "      <th>start_date</th>\n",
       "      <th>end_date</th>\n",
       "      <th>program_id</th>\n",
       "    </tr>\n",
       "    <tr>\n",
       "      <th>datetime</th>\n",
       "      <th></th>\n",
       "      <th></th>\n",
       "      <th></th>\n",
       "      <th></th>\n",
       "      <th></th>\n",
       "      <th></th>\n",
       "      <th></th>\n",
       "      <th></th>\n",
       "    </tr>\n",
       "  </thead>\n",
       "  <tbody>\n",
       "    <tr>\n",
       "      <th>2020-07-13 14:34:44</th>\n",
       "      <td>/</td>\n",
       "      <td>678</td>\n",
       "      <td>59</td>\n",
       "      <td>76.201.20.193</td>\n",
       "      <td>Darden</td>\n",
       "      <td>2020-07-13</td>\n",
       "      <td>2021-01-12</td>\n",
       "      <td>3.0</td>\n",
       "    </tr>\n",
       "  </tbody>\n",
       "</table>\n",
       "</div>"
      ],
      "text/plain": [
       "                    page_viewed  user_id cohort_id             ip    name  \\\n",
       "datetime                                                                    \n",
       "2020-07-13 14:34:44           /      678        59  76.201.20.193  Darden   \n",
       "\n",
       "                     start_date    end_date  program_id  \n",
       "datetime                                                 \n",
       "2020-07-13 14:34:44  2020-07-13  2021-01-12         3.0  "
      ]
     },
     "execution_count": 13,
     "metadata": {},
     "output_type": "execute_result"
    }
   ],
   "source": [
    "# filtering for a Darden cohort row to see what program ID it is associated with\n",
    "df[df.name == 'Darden'].head(1)"
   ]
  },
  {
   "cell_type": "markdown",
   "metadata": {},
   "source": [
    "Darden is a web dev cohort.\n",
    "\n",
    "Program_id 3 indicates a Data Science cohort."
   ]
  },
  {
   "cell_type": "markdown",
   "metadata": {},
   "source": [
    "After cross-referencing the cohorts featured at <https://alumni.codeup.com> with the name column in my DF, I was able to determine that\n",
    " - Web development cohorts correspond with program IDs 1, 2 and 4\n",
    " - Data science cohorts correspond with program ID 3"
   ]
  },
  {
   "cell_type": "markdown",
   "metadata": {},
   "source": [
    "#### Now that I know what program IDs correspond to web dev and DS cohorts, I can split them accordingly.\n",
    "\n",
    "#### I'll also be splitting the unknown cohort rows into their own data frame."
   ]
  },
  {
   "cell_type": "code",
   "execution_count": 16,
   "metadata": {},
   "outputs": [],
   "source": [
    "# creating web dev DF\n",
    "wd = df[(df.program_id == 1) | (df.program_id == 2) | (df.program_id == 4)]\n",
    "\n",
    "# creating data science DF\n",
    "ds = df[df.program_id == 3]\n",
    "\n",
    "# creating DF for unknown cohort rows\n",
    "unk = df[df.program_id == 0]"
   ]
  },
  {
   "cell_type": "code",
   "execution_count": null,
   "metadata": {},
   "outputs": [],
   "source": []
  },
  {
   "cell_type": "code",
   "execution_count": null,
   "metadata": {},
   "outputs": [],
   "source": []
  }
 ],
 "metadata": {
  "kernelspec": {
   "display_name": "Python 3",
   "language": "python",
   "name": "python3"
  },
  "language_info": {
   "codemirror_mode": {
    "name": "ipython",
    "version": 3
   },
   "file_extension": ".py",
   "mimetype": "text/x-python",
   "name": "python",
   "nbconvert_exporter": "python",
   "pygments_lexer": "ipython3",
   "version": "3.7.6"
  }
 },
 "nbformat": 4,
 "nbformat_minor": 4
}
